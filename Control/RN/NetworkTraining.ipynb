{
  "nbformat": 4,
  "nbformat_minor": 0,
  "metadata": {
    "colab": {
      "provenance": []
    },
    "kernelspec": {
      "name": "python3",
      "display_name": "Python 3"
    },
    "language_info": {
      "name": "python"
    }
  },
  "cells": [
    {
      "cell_type": "markdown",
      "source": [
        "# Tesis\n"
      ],
      "metadata": {
        "id": "iurcKS2Zmhwg"
      }
    },
    {
      "cell_type": "code",
      "source": [
        "import seaborn as sb\n",
        "import matplotlib.pyplot as plt\n",
        "import numpy as np\n",
        "import pandas as pd\n",
        "import matplotlib.image as mpimg\n",
        "\n",
        "import cv2\n",
        "from keras.utils.vis_utils import plot_model\n",
        "\n",
        "from google.colab.patches import cv2_imshow\n",
        "\n",
        "\n",
        "\n",
        "import sklearn\n",
        "from sklearn.preprocessing import StandardScaler\n",
        "from sklearn.preprocessing import OneHotEncoder\n",
        "from sklearn.model_selection import train_test_split\n",
        "from sklearn.metrics import r2_score\n",
        "from sklearn.neural_network import MLPClassifier\n",
        "from sklearn.utils import shuffle\n",
        "from sklearn.model_selection import cross_validate\n",
        "\n",
        "\n",
        "from sklearn.model_selection import GridSearchCV\n",
        "\n",
        "\n",
        "\n",
        "from sklearn import decomposition\n",
        "from sklearn import datasets\n",
        "from sklearn.preprocessing import StandardScaler\n",
        "\n",
        "from sklearn.decomposition import PCA, KernelPCA\n",
        "\n",
        "from sklearn.neural_network import MLPRegressor\n",
        "import pickle\n",
        "from seaborn import regplot"
      ],
      "metadata": {
        "id": "BvlxwcPEmf6e"
      },
      "execution_count": null,
      "outputs": []
    },
    {
      "cell_type": "markdown",
      "source": [
        "# Descripcion"
      ],
      "metadata": {
        "id": "uVSSWxlGqgVR"
      }
    },
    {
      "cell_type": "markdown",
      "source": [
        "Como se va a usar una ANN por series de tiempo, la cual tiene las siguientes entradas y salidas:"
      ],
      "metadata": {
        "id": "uVGDfyQpqijm"
      }
    },
    {
      "cell_type": "markdown",
      "source": [
        "Entradas:  X=[TDS[6],Tmp[6],Lum[1],Hora,CL,CO,CC,CA]\n",
        "*   Lum: Luminosidad[n]\n",
        "*   TDS:Solidos disueltos totales[n-1:n-6]\n",
        "*   Temp:TEMPERATURA[n-1:n-56]\n",
        "*   Hora: Hora del dia\n",
        "*   CL: ciclo de trabajo en luminosidad a aplicar\n",
        "*   CO: ciclo de trabajo en oxigeno a aplicar\n",
        "*   CC: ciclo de trabajo en circulacion\n",
        "*   CA: ciclo de trabajo en aireacion\n",
        "\n",
        "SALIDAS  [TDS_p,Tmp_p]:\n",
        "*   TDS_p:TDS siguiente\n",
        "*   Temp_p:TEMPERATURA siguiente\n",
        "\n",
        "\n",
        "\n",
        "\n"
      ],
      "metadata": {
        "id": "FjXjuizxqtub"
      }
    },
    {
      "cell_type": "markdown",
      "source": [
        "**Entrenamiento**"
      ],
      "metadata": {
        "id": "BfBg3P0hsX2Q"
      }
    },
    {
      "cell_type": "markdown",
      "source": [
        "Se hara una evaluacion con el 5% de los datos y el 95% restante se usara para entrenar el modelo usando 5 pliegues con Cross Validation."
      ],
      "metadata": {
        "id": "rjgIQQntsUqf"
      }
    },
    {
      "cell_type": "markdown",
      "source": [
        "# Desarrollo"
      ],
      "metadata": {
        "id": "xbCnkoQMqFQB"
      }
    },
    {
      "cell_type": "markdown",
      "source": [
        "## Limpieza"
      ],
      "metadata": {
        "id": "JrfbQ1W2qHZ6"
      }
    },
    {
      "cell_type": "markdown",
      "source": [
        "Respecto a la limpiza, esta se hizo en otro notebook aparte"
      ],
      "metadata": {
        "id": "COpu363PRs_Q"
      }
    },
    {
      "cell_type": "markdown",
      "source": [
        "## Evaluacion"
      ],
      "metadata": {
        "id": "NzKiYjuyqHqT"
      }
    },
    {
      "cell_type": "markdown",
      "source": [
        "En primer lugar se carga el dataset obtenido"
      ],
      "metadata": {
        "id": "uatjiDJDTAJ3"
      }
    },
    {
      "cell_type": "code",
      "source": [
        "\n",
        "datos=pd.read_excel(\"/content/drive/MyDrive/Proyecto grado Privado Luis/data_set2_completoControlModerno.xlsx\") \n",
        "datos=datos.iloc[0:864]\n",
        "print(len(datos))\n",
        "dfX=datos[['TDS_n1','TDS_n2','TDS_n3','TDS_n4','TDS_n5','TDS_n6',\n",
        "                 'Temp_n1','Temp_n2','Temp_n3','Temp_n4','Temp_n5','Temp_n6',\n",
        "                 'Hora','CL','CC','CO','CA']]\n",
        "dfY=datos[['TDS','Temp']]\n",
        "\n",
        "dfX.head(5)\n"
      ],
      "metadata": {
        "colab": {
          "base_uri": "https://localhost:8080/",
          "height": 287
        },
        "id": "07NqLzCyOUDH",
        "outputId": "cf754952-e778-4e41-8334-b09f3ffebeac"
      },
      "execution_count": null,
      "outputs": [
        {
          "output_type": "stream",
          "name": "stdout",
          "text": [
            "864\n"
          ]
        },
        {
          "output_type": "execute_result",
          "data": {
            "text/plain": [
              "       TDS_n1      TDS_n2      TDS_n3      TDS_n4      TDS_n5      TDS_n6  \\\n",
              "0  101.836533  100.968712  101.760529  102.658501   97.404671   97.959190   \n",
              "1  102.294701  101.836533  100.968712  101.760529  102.658501   97.404671   \n",
              "2  106.808273  102.294701  101.836533  100.968712  101.760529  102.658501   \n",
              "3  107.972763  106.808273  102.294701  101.836533  100.968712  101.760529   \n",
              "4  111.637520  107.972763  106.808273  102.294701  101.836533  100.968712   \n",
              "\n",
              "   Temp_n1  Temp_n2  Temp_n3  Temp_n4  Temp_n5  Temp_n6  Hora   CL    CC  \\\n",
              "0  23.0000  22.0000  22.5625  23.0625  22.5000  22.8750  12.0  0.0  0.99   \n",
              "1  23.8750  23.0000  22.0000  22.5625  23.0625  22.5000  14.0  0.0  0.99   \n",
              "2  23.9375  23.8750  23.0000  22.0000  22.5625  23.0625  16.0  0.0  0.99   \n",
              "3  23.3750  23.9375  23.8750  23.0000  22.0000  22.5625  18.0  0.0  0.99   \n",
              "4  22.6875  23.3750  23.9375  23.8750  23.0000  22.0000  22.0  0.0  0.99   \n",
              "\n",
              "     CO    CA  \n",
              "0  0.99  0.99  \n",
              "1  0.99  0.00  \n",
              "2  0.99  0.00  \n",
              "3  0.99  0.00  \n",
              "4  0.99  0.00  "
            ],
            "text/html": [
              "\n",
              "  <div id=\"df-02b082e9-39c7-415c-b2b0-bb207e0bdbaf\">\n",
              "    <div class=\"colab-df-container\">\n",
              "      <div>\n",
              "<style scoped>\n",
              "    .dataframe tbody tr th:only-of-type {\n",
              "        vertical-align: middle;\n",
              "    }\n",
              "\n",
              "    .dataframe tbody tr th {\n",
              "        vertical-align: top;\n",
              "    }\n",
              "\n",
              "    .dataframe thead th {\n",
              "        text-align: right;\n",
              "    }\n",
              "</style>\n",
              "<table border=\"1\" class=\"dataframe\">\n",
              "  <thead>\n",
              "    <tr style=\"text-align: right;\">\n",
              "      <th></th>\n",
              "      <th>TDS_n1</th>\n",
              "      <th>TDS_n2</th>\n",
              "      <th>TDS_n3</th>\n",
              "      <th>TDS_n4</th>\n",
              "      <th>TDS_n5</th>\n",
              "      <th>TDS_n6</th>\n",
              "      <th>Temp_n1</th>\n",
              "      <th>Temp_n2</th>\n",
              "      <th>Temp_n3</th>\n",
              "      <th>Temp_n4</th>\n",
              "      <th>Temp_n5</th>\n",
              "      <th>Temp_n6</th>\n",
              "      <th>Hora</th>\n",
              "      <th>CL</th>\n",
              "      <th>CC</th>\n",
              "      <th>CO</th>\n",
              "      <th>CA</th>\n",
              "    </tr>\n",
              "  </thead>\n",
              "  <tbody>\n",
              "    <tr>\n",
              "      <th>0</th>\n",
              "      <td>101.836533</td>\n",
              "      <td>100.968712</td>\n",
              "      <td>101.760529</td>\n",
              "      <td>102.658501</td>\n",
              "      <td>97.404671</td>\n",
              "      <td>97.959190</td>\n",
              "      <td>23.0000</td>\n",
              "      <td>22.0000</td>\n",
              "      <td>22.5625</td>\n",
              "      <td>23.0625</td>\n",
              "      <td>22.5000</td>\n",
              "      <td>22.8750</td>\n",
              "      <td>12.0</td>\n",
              "      <td>0.0</td>\n",
              "      <td>0.99</td>\n",
              "      <td>0.99</td>\n",
              "      <td>0.99</td>\n",
              "    </tr>\n",
              "    <tr>\n",
              "      <th>1</th>\n",
              "      <td>102.294701</td>\n",
              "      <td>101.836533</td>\n",
              "      <td>100.968712</td>\n",
              "      <td>101.760529</td>\n",
              "      <td>102.658501</td>\n",
              "      <td>97.404671</td>\n",
              "      <td>23.8750</td>\n",
              "      <td>23.0000</td>\n",
              "      <td>22.0000</td>\n",
              "      <td>22.5625</td>\n",
              "      <td>23.0625</td>\n",
              "      <td>22.5000</td>\n",
              "      <td>14.0</td>\n",
              "      <td>0.0</td>\n",
              "      <td>0.99</td>\n",
              "      <td>0.99</td>\n",
              "      <td>0.00</td>\n",
              "    </tr>\n",
              "    <tr>\n",
              "      <th>2</th>\n",
              "      <td>106.808273</td>\n",
              "      <td>102.294701</td>\n",
              "      <td>101.836533</td>\n",
              "      <td>100.968712</td>\n",
              "      <td>101.760529</td>\n",
              "      <td>102.658501</td>\n",
              "      <td>23.9375</td>\n",
              "      <td>23.8750</td>\n",
              "      <td>23.0000</td>\n",
              "      <td>22.0000</td>\n",
              "      <td>22.5625</td>\n",
              "      <td>23.0625</td>\n",
              "      <td>16.0</td>\n",
              "      <td>0.0</td>\n",
              "      <td>0.99</td>\n",
              "      <td>0.99</td>\n",
              "      <td>0.00</td>\n",
              "    </tr>\n",
              "    <tr>\n",
              "      <th>3</th>\n",
              "      <td>107.972763</td>\n",
              "      <td>106.808273</td>\n",
              "      <td>102.294701</td>\n",
              "      <td>101.836533</td>\n",
              "      <td>100.968712</td>\n",
              "      <td>101.760529</td>\n",
              "      <td>23.3750</td>\n",
              "      <td>23.9375</td>\n",
              "      <td>23.8750</td>\n",
              "      <td>23.0000</td>\n",
              "      <td>22.0000</td>\n",
              "      <td>22.5625</td>\n",
              "      <td>18.0</td>\n",
              "      <td>0.0</td>\n",
              "      <td>0.99</td>\n",
              "      <td>0.99</td>\n",
              "      <td>0.00</td>\n",
              "    </tr>\n",
              "    <tr>\n",
              "      <th>4</th>\n",
              "      <td>111.637520</td>\n",
              "      <td>107.972763</td>\n",
              "      <td>106.808273</td>\n",
              "      <td>102.294701</td>\n",
              "      <td>101.836533</td>\n",
              "      <td>100.968712</td>\n",
              "      <td>22.6875</td>\n",
              "      <td>23.3750</td>\n",
              "      <td>23.9375</td>\n",
              "      <td>23.8750</td>\n",
              "      <td>23.0000</td>\n",
              "      <td>22.0000</td>\n",
              "      <td>22.0</td>\n",
              "      <td>0.0</td>\n",
              "      <td>0.99</td>\n",
              "      <td>0.99</td>\n",
              "      <td>0.00</td>\n",
              "    </tr>\n",
              "  </tbody>\n",
              "</table>\n",
              "</div>\n",
              "      <button class=\"colab-df-convert\" onclick=\"convertToInteractive('df-02b082e9-39c7-415c-b2b0-bb207e0bdbaf')\"\n",
              "              title=\"Convert this dataframe to an interactive table.\"\n",
              "              style=\"display:none;\">\n",
              "        \n",
              "  <svg xmlns=\"http://www.w3.org/2000/svg\" height=\"24px\"viewBox=\"0 0 24 24\"\n",
              "       width=\"24px\">\n",
              "    <path d=\"M0 0h24v24H0V0z\" fill=\"none\"/>\n",
              "    <path d=\"M18.56 5.44l.94 2.06.94-2.06 2.06-.94-2.06-.94-.94-2.06-.94 2.06-2.06.94zm-11 1L8.5 8.5l.94-2.06 2.06-.94-2.06-.94L8.5 2.5l-.94 2.06-2.06.94zm10 10l.94 2.06.94-2.06 2.06-.94-2.06-.94-.94-2.06-.94 2.06-2.06.94z\"/><path d=\"M17.41 7.96l-1.37-1.37c-.4-.4-.92-.59-1.43-.59-.52 0-1.04.2-1.43.59L10.3 9.45l-7.72 7.72c-.78.78-.78 2.05 0 2.83L4 21.41c.39.39.9.59 1.41.59.51 0 1.02-.2 1.41-.59l7.78-7.78 2.81-2.81c.8-.78.8-2.07 0-2.86zM5.41 20L4 18.59l7.72-7.72 1.47 1.35L5.41 20z\"/>\n",
              "  </svg>\n",
              "      </button>\n",
              "      \n",
              "  <style>\n",
              "    .colab-df-container {\n",
              "      display:flex;\n",
              "      flex-wrap:wrap;\n",
              "      gap: 12px;\n",
              "    }\n",
              "\n",
              "    .colab-df-convert {\n",
              "      background-color: #E8F0FE;\n",
              "      border: none;\n",
              "      border-radius: 50%;\n",
              "      cursor: pointer;\n",
              "      display: none;\n",
              "      fill: #1967D2;\n",
              "      height: 32px;\n",
              "      padding: 0 0 0 0;\n",
              "      width: 32px;\n",
              "    }\n",
              "\n",
              "    .colab-df-convert:hover {\n",
              "      background-color: #E2EBFA;\n",
              "      box-shadow: 0px 1px 2px rgba(60, 64, 67, 0.3), 0px 1px 3px 1px rgba(60, 64, 67, 0.15);\n",
              "      fill: #174EA6;\n",
              "    }\n",
              "\n",
              "    [theme=dark] .colab-df-convert {\n",
              "      background-color: #3B4455;\n",
              "      fill: #D2E3FC;\n",
              "    }\n",
              "\n",
              "    [theme=dark] .colab-df-convert:hover {\n",
              "      background-color: #434B5C;\n",
              "      box-shadow: 0px 1px 3px 1px rgba(0, 0, 0, 0.15);\n",
              "      filter: drop-shadow(0px 1px 2px rgba(0, 0, 0, 0.3));\n",
              "      fill: #FFFFFF;\n",
              "    }\n",
              "  </style>\n",
              "\n",
              "      <script>\n",
              "        const buttonEl =\n",
              "          document.querySelector('#df-02b082e9-39c7-415c-b2b0-bb207e0bdbaf button.colab-df-convert');\n",
              "        buttonEl.style.display =\n",
              "          google.colab.kernel.accessAllowed ? 'block' : 'none';\n",
              "\n",
              "        async function convertToInteractive(key) {\n",
              "          const element = document.querySelector('#df-02b082e9-39c7-415c-b2b0-bb207e0bdbaf');\n",
              "          const dataTable =\n",
              "            await google.colab.kernel.invokeFunction('convertToInteractive',\n",
              "                                                     [key], {});\n",
              "          if (!dataTable) return;\n",
              "\n",
              "          const docLinkHtml = 'Like what you see? Visit the ' +\n",
              "            '<a target=\"_blank\" href=https://colab.research.google.com/notebooks/data_table.ipynb>data table notebook</a>'\n",
              "            + ' to learn more about interactive tables.';\n",
              "          element.innerHTML = '';\n",
              "          dataTable['output_type'] = 'display_data';\n",
              "          await google.colab.output.renderOutput(dataTable, element);\n",
              "          const docLink = document.createElement('div');\n",
              "          docLink.innerHTML = docLinkHtml;\n",
              "          element.appendChild(docLink);\n",
              "        }\n",
              "      </script>\n",
              "    </div>\n",
              "  </div>\n",
              "  "
            ]
          },
          "metadata": {},
          "execution_count": 77
        }
      ]
    },
    {
      "cell_type": "code",
      "source": [
        "dfY.head(5)"
      ],
      "metadata": {
        "colab": {
          "base_uri": "https://localhost:8080/",
          "height": 206
        },
        "id": "5vgvCc9W5ICg",
        "outputId": "99eccb34-c00f-4343-d703-fbb34fcf2a16"
      },
      "execution_count": null,
      "outputs": [
        {
          "output_type": "execute_result",
          "data": {
            "text/plain": [
              "            TDS     Temp\n",
              "400  300.239441  21.0625\n",
              "401  313.513458  21.8750\n",
              "402  307.123230  22.5000\n",
              "403  312.101318  23.1875\n",
              "404  316.269073  23.3750"
            ],
            "text/html": [
              "\n",
              "  <div id=\"df-b97b0a8e-adf4-4e8a-98b1-79d99a8f0393\">\n",
              "    <div class=\"colab-df-container\">\n",
              "      <div>\n",
              "<style scoped>\n",
              "    .dataframe tbody tr th:only-of-type {\n",
              "        vertical-align: middle;\n",
              "    }\n",
              "\n",
              "    .dataframe tbody tr th {\n",
              "        vertical-align: top;\n",
              "    }\n",
              "\n",
              "    .dataframe thead th {\n",
              "        text-align: right;\n",
              "    }\n",
              "</style>\n",
              "<table border=\"1\" class=\"dataframe\">\n",
              "  <thead>\n",
              "    <tr style=\"text-align: right;\">\n",
              "      <th></th>\n",
              "      <th>TDS</th>\n",
              "      <th>Temp</th>\n",
              "    </tr>\n",
              "  </thead>\n",
              "  <tbody>\n",
              "    <tr>\n",
              "      <th>400</th>\n",
              "      <td>300.239441</td>\n",
              "      <td>21.0625</td>\n",
              "    </tr>\n",
              "    <tr>\n",
              "      <th>401</th>\n",
              "      <td>313.513458</td>\n",
              "      <td>21.8750</td>\n",
              "    </tr>\n",
              "    <tr>\n",
              "      <th>402</th>\n",
              "      <td>307.123230</td>\n",
              "      <td>22.5000</td>\n",
              "    </tr>\n",
              "    <tr>\n",
              "      <th>403</th>\n",
              "      <td>312.101318</td>\n",
              "      <td>23.1875</td>\n",
              "    </tr>\n",
              "    <tr>\n",
              "      <th>404</th>\n",
              "      <td>316.269073</td>\n",
              "      <td>23.3750</td>\n",
              "    </tr>\n",
              "  </tbody>\n",
              "</table>\n",
              "</div>\n",
              "      <button class=\"colab-df-convert\" onclick=\"convertToInteractive('df-b97b0a8e-adf4-4e8a-98b1-79d99a8f0393')\"\n",
              "              title=\"Convert this dataframe to an interactive table.\"\n",
              "              style=\"display:none;\">\n",
              "        \n",
              "  <svg xmlns=\"http://www.w3.org/2000/svg\" height=\"24px\"viewBox=\"0 0 24 24\"\n",
              "       width=\"24px\">\n",
              "    <path d=\"M0 0h24v24H0V0z\" fill=\"none\"/>\n",
              "    <path d=\"M18.56 5.44l.94 2.06.94-2.06 2.06-.94-2.06-.94-.94-2.06-.94 2.06-2.06.94zm-11 1L8.5 8.5l.94-2.06 2.06-.94-2.06-.94L8.5 2.5l-.94 2.06-2.06.94zm10 10l.94 2.06.94-2.06 2.06-.94-2.06-.94-.94-2.06-.94 2.06-2.06.94z\"/><path d=\"M17.41 7.96l-1.37-1.37c-.4-.4-.92-.59-1.43-.59-.52 0-1.04.2-1.43.59L10.3 9.45l-7.72 7.72c-.78.78-.78 2.05 0 2.83L4 21.41c.39.39.9.59 1.41.59.51 0 1.02-.2 1.41-.59l7.78-7.78 2.81-2.81c.8-.78.8-2.07 0-2.86zM5.41 20L4 18.59l7.72-7.72 1.47 1.35L5.41 20z\"/>\n",
              "  </svg>\n",
              "      </button>\n",
              "      \n",
              "  <style>\n",
              "    .colab-df-container {\n",
              "      display:flex;\n",
              "      flex-wrap:wrap;\n",
              "      gap: 12px;\n",
              "    }\n",
              "\n",
              "    .colab-df-convert {\n",
              "      background-color: #E8F0FE;\n",
              "      border: none;\n",
              "      border-radius: 50%;\n",
              "      cursor: pointer;\n",
              "      display: none;\n",
              "      fill: #1967D2;\n",
              "      height: 32px;\n",
              "      padding: 0 0 0 0;\n",
              "      width: 32px;\n",
              "    }\n",
              "\n",
              "    .colab-df-convert:hover {\n",
              "      background-color: #E2EBFA;\n",
              "      box-shadow: 0px 1px 2px rgba(60, 64, 67, 0.3), 0px 1px 3px 1px rgba(60, 64, 67, 0.15);\n",
              "      fill: #174EA6;\n",
              "    }\n",
              "\n",
              "    [theme=dark] .colab-df-convert {\n",
              "      background-color: #3B4455;\n",
              "      fill: #D2E3FC;\n",
              "    }\n",
              "\n",
              "    [theme=dark] .colab-df-convert:hover {\n",
              "      background-color: #434B5C;\n",
              "      box-shadow: 0px 1px 3px 1px rgba(0, 0, 0, 0.15);\n",
              "      filter: drop-shadow(0px 1px 2px rgba(0, 0, 0, 0.3));\n",
              "      fill: #FFFFFF;\n",
              "    }\n",
              "  </style>\n",
              "\n",
              "      <script>\n",
              "        const buttonEl =\n",
              "          document.querySelector('#df-b97b0a8e-adf4-4e8a-98b1-79d99a8f0393 button.colab-df-convert');\n",
              "        buttonEl.style.display =\n",
              "          google.colab.kernel.accessAllowed ? 'block' : 'none';\n",
              "\n",
              "        async function convertToInteractive(key) {\n",
              "          const element = document.querySelector('#df-b97b0a8e-adf4-4e8a-98b1-79d99a8f0393');\n",
              "          const dataTable =\n",
              "            await google.colab.kernel.invokeFunction('convertToInteractive',\n",
              "                                                     [key], {});\n",
              "          if (!dataTable) return;\n",
              "\n",
              "          const docLinkHtml = 'Like what you see? Visit the ' +\n",
              "            '<a target=\"_blank\" href=https://colab.research.google.com/notebooks/data_table.ipynb>data table notebook</a>'\n",
              "            + ' to learn more about interactive tables.';\n",
              "          element.innerHTML = '';\n",
              "          dataTable['output_type'] = 'display_data';\n",
              "          await google.colab.output.renderOutput(dataTable, element);\n",
              "          const docLink = document.createElement('div');\n",
              "          docLink.innerHTML = docLinkHtml;\n",
              "          element.appendChild(docLink);\n",
              "        }\n",
              "      </script>\n",
              "    </div>\n",
              "  </div>\n",
              "  "
            ]
          },
          "metadata": {},
          "execution_count": 55
        }
      ]
    },
    {
      "cell_type": "code",
      "source": [
        "dfXTrain,dfX_Evaluation,dfYTrain,dfY_Evaluation = train_test_split(dfX,dfY,test_size=0.15)\n",
        "\n"
      ],
      "metadata": {
        "id": "pCPHeb5EY18l"
      },
      "execution_count": null,
      "outputs": []
    },
    {
      "cell_type": "markdown",
      "source": [
        "## Normalizacion"
      ],
      "metadata": {
        "id": "rClYv07JqTPR"
      }
    },
    {
      "cell_type": "code",
      "source": [
        "Data=np.array(dfXTrain.values)\n",
        "scaler = StandardScaler()\n",
        "scaler.fit(Data)\n",
        "MeanTrain=scaler.mean_\n",
        "VarTrain=scaler.var_\n",
        "dfXTrainNorm=scaler.transform(Data)\n",
        "\n",
        "print(MeanTrain,VarTrain)"
      ],
      "metadata": {
        "colab": {
          "base_uri": "https://localhost:8080/"
        },
        "id": "7wUjqo-KZl58",
        "outputId": "004f6a0a-ea96-49fa-a575-d5a41516d06b"
      },
      "execution_count": null,
      "outputs": [
        {
          "output_type": "stream",
          "name": "stdout",
          "text": [
            "[2.86883501e+02 2.86323063e+02 2.85911469e+02 2.85247393e+02\n",
            " 2.84808358e+02 2.84425061e+02 2.18210150e+01 2.18202486e+01\n",
            " 2.18142030e+01 2.18044959e+01 2.18091792e+01 2.18067950e+01\n",
            " 1.07275204e+01 3.47091198e-01 8.88801090e-01 8.89550409e-01\n",
            " 2.80490463e-01] [1.26923362e+04 1.26692752e+04 1.26202777e+04 1.26169941e+04\n",
            " 1.26267882e+04 1.26518220e+04 1.40454900e+00 1.38150182e+00\n",
            " 1.39099463e+00 1.38678241e+00 1.43336453e+00 1.47558798e+00\n",
            " 4.67677167e+01 2.15559936e-01 6.50026498e-02 4.83999341e-02\n",
            " 1.91220468e-01]\n"
          ]
        }
      ]
    },
    {
      "cell_type": "markdown",
      "source": [
        "## Analisis de dimensionalidad"
      ],
      "metadata": {
        "id": "7P0q01-zqWtl"
      }
    },
    {
      "cell_type": "code",
      "source": [
        "pca = decomposition.PCA(n_components=17)\n",
        "\n",
        "#The optional parameter whiten=True makes it possible to project the data onto the singular space while scaling each component to unit variance.\n",
        "pca.fit(dfXTrainNorm)\n",
        "#X = pca.transform(X)\n",
        "vars=pca.explained_variance_ratio_\n",
        "print(\"Pesos de PCA:\",vars*100/sum(vars))\n",
        "print(\"porcentaje de PCA:\",sum(vars[0:11]*100))"
      ],
      "metadata": {
        "colab": {
          "base_uri": "https://localhost:8080/"
        },
        "id": "8GyR_cpVcZ7d",
        "outputId": "ac74b758-4a24-48e2-af85-ad257e96007d"
      },
      "execution_count": null,
      "outputs": [
        {
          "output_type": "stream",
          "name": "stdout",
          "text": [
            "Pesos de PCA: [4.27237582e+01 1.92267253e+01 1.28081967e+01 8.85017248e+00\n",
            " 5.35114198e+00 4.39169908e+00 2.58648028e+00 2.12378708e+00\n",
            " 1.26500448e+00 3.10004106e-01 1.67100786e-01 9.06116164e-02\n",
            " 5.88113741e-02 1.81876996e-02 1.13776962e-02 9.10930405e-03\n",
            " 7.83190554e-03]\n",
            "porcentaje de PCA: 99.80407040413604\n"
          ]
        }
      ]
    },
    {
      "cell_type": "markdown",
      "source": [
        "A continuacion se seleccionan 11 componentes principales"
      ],
      "metadata": {
        "id": "sxCJ1EFHR4cU"
      }
    },
    {
      "cell_type": "code",
      "source": [
        "pca = decomposition.PCA(n_components=11)\n",
        "pca.fit(dfXTrainNorm)\n",
        "\n",
        "EigenValues=pca.explained_variance_ratio_\n",
        "EigenVectors=np.transpose(np.array(pca.components_))\n",
        "\n",
        "dfXTrainNorm6Dim = pca.transform(dfXTrainNorm)"
      ],
      "metadata": {
        "id": "V--wfnoZd949"
      },
      "execution_count": null,
      "outputs": []
    },
    {
      "cell_type": "markdown",
      "source": [
        "## Creacion y entrenamiento del modelo (con grid search)"
      ],
      "metadata": {
        "id": "4Y0bbki6qWwV"
      }
    },
    {
      "cell_type": "code",
      "source": [
        "from sklearn.neural_network import MLPRegressor\n",
        "verbose=False\n",
        "#Se define el MLP base\n",
        "clf = MLPRegressor(random_state=1 ,verbose=verbose,solver='lbfgs',activation='identity',max_iter=10000)\n",
        "#------Primera version de hiper parametros-----\n",
        "#parameters = {'activation':('identity', 'logistic', 'relu', 'softmax', 'tanh'),\n",
        "#'hidden_layer_sizes': [(30,50,30),(20,20,20),(30,30,30),(10,10,10,10),(20,20,20,20),(30,30,30,30),(10,10,10,10,10)]},'alpha':[0.0001,0.0005,0.0010]\n",
        "#------Segunda version de hiper parametros-----\n",
        "parameters = {'hidden_layer_sizes': [(20,20),(5,5,5),(20,20,20),(30,30,30),(20,20,20,20),(30,30,30,30),(50,50,50,50)],'alpha':[0.00001,0.0001]}\n",
        "\n",
        "clf_grid = GridSearchCV(clf, parameters)\n",
        "clf_grid.fit(dfXTrainNorm6Dim, dfYTrain);"
      ],
      "metadata": {
        "id": "JMkBCrUvenlG"
      },
      "execution_count": null,
      "outputs": []
    },
    {
      "cell_type": "code",
      "source": [
        "data=clf_grid.cv_results_\n",
        "dfit = pd.DataFrame(data)"
      ],
      "metadata": {
        "id": "GoRIKWmvev4s"
      },
      "execution_count": null,
      "outputs": []
    },
    {
      "cell_type": "markdown",
      "source": [
        "Se genera tabla de ranking"
      ],
      "metadata": {
        "id": "nGhiqxLqSVaI"
      }
    },
    {
      "cell_type": "code",
      "source": [
        "\n",
        "rank=dfit.loc[(dfit['rank_test_score']<=40),['rank_test_score','param_hidden_layer_sizes','mean_fit_time', 'mean_score_time', 'mean_test_score','std_test_score','std_score_time','params']]\n",
        "dfit.loc[(dfit['rank_test_score']<=40),['rank_test_score','param_hidden_layer_sizes','mean_fit_time', 'mean_score_time', 'mean_test_score','std_test_score','std_score_time','params']]"
      ],
      "metadata": {
        "colab": {
          "base_uri": "https://localhost:8080/",
          "height": 1000
        },
        "id": "u6kw_br-e1ab",
        "outputId": "4be4cc29-7f84-4177-f832-ef3edbca1a3c"
      },
      "execution_count": null,
      "outputs": [
        {
          "output_type": "execute_result",
          "data": {
            "text/plain": [
              "    rank_test_score param_hidden_layer_sizes  mean_fit_time  mean_score_time  \\\n",
              "0                13                 (20, 20)       0.905342         0.002072   \n",
              "1                 2                (5, 5, 5)       0.868753         0.002127   \n",
              "2                10             (20, 20, 20)       1.011473         0.002300   \n",
              "3                 1             (30, 30, 30)       3.119658         0.002889   \n",
              "4                12         (20, 20, 20, 20)       1.822055         0.002217   \n",
              "5                 4         (30, 30, 30, 30)       4.259677         0.002870   \n",
              "6                 5         (50, 50, 50, 50)       4.458385         0.003029   \n",
              "7                 7                 (20, 20)       0.939086         0.002247   \n",
              "8                 9                (5, 5, 5)       0.837276         0.002150   \n",
              "9                 3             (20, 20, 20)       1.126501         0.002138   \n",
              "10               11             (30, 30, 30)       2.907202         0.002887   \n",
              "11                6         (20, 20, 20, 20)       1.580557         0.002136   \n",
              "12               14         (30, 30, 30, 30)       3.726409         0.002940   \n",
              "13                8         (50, 50, 50, 50)       4.853896         0.003620   \n",
              "\n",
              "    mean_test_score  std_test_score  std_score_time  \\\n",
              "0          0.928428        0.021185        0.000035   \n",
              "1          0.930480        0.018468        0.000158   \n",
              "2          0.929236        0.021661        0.000405   \n",
              "3          0.930628        0.018906        0.000134   \n",
              "4          0.928492        0.019413        0.000064   \n",
              "5          0.930188        0.019532        0.000050   \n",
              "6          0.930078        0.020148        0.000044   \n",
              "7          0.929857        0.018977        0.000378   \n",
              "8          0.929823        0.017940        0.000063   \n",
              "9          0.930206        0.019118        0.000068   \n",
              "10         0.929176        0.021388        0.000157   \n",
              "11         0.929921        0.019633        0.000040   \n",
              "12         0.928221        0.020534        0.000121   \n",
              "13         0.929847        0.020661        0.001020   \n",
              "\n",
              "                                               params  \n",
              "0    {'alpha': 1e-05, 'hidden_layer_sizes': (20, 20)}  \n",
              "1   {'alpha': 1e-05, 'hidden_layer_sizes': (5, 5, 5)}  \n",
              "2   {'alpha': 1e-05, 'hidden_layer_sizes': (20, 20...  \n",
              "3   {'alpha': 1e-05, 'hidden_layer_sizes': (30, 30...  \n",
              "4   {'alpha': 1e-05, 'hidden_layer_sizes': (20, 20...  \n",
              "5   {'alpha': 1e-05, 'hidden_layer_sizes': (30, 30...  \n",
              "6   {'alpha': 1e-05, 'hidden_layer_sizes': (50, 50...  \n",
              "7   {'alpha': 0.0001, 'hidden_layer_sizes': (20, 20)}  \n",
              "8   {'alpha': 0.0001, 'hidden_layer_sizes': (5, 5,...  \n",
              "9   {'alpha': 0.0001, 'hidden_layer_sizes': (20, 2...  \n",
              "10  {'alpha': 0.0001, 'hidden_layer_sizes': (30, 3...  \n",
              "11  {'alpha': 0.0001, 'hidden_layer_sizes': (20, 2...  \n",
              "12  {'alpha': 0.0001, 'hidden_layer_sizes': (30, 3...  \n",
              "13  {'alpha': 0.0001, 'hidden_layer_sizes': (50, 5...  "
            ],
            "text/html": [
              "\n",
              "  <div id=\"df-3ea25515-9acc-475d-88c3-e8d87d40d559\">\n",
              "    <div class=\"colab-df-container\">\n",
              "      <div>\n",
              "<style scoped>\n",
              "    .dataframe tbody tr th:only-of-type {\n",
              "        vertical-align: middle;\n",
              "    }\n",
              "\n",
              "    .dataframe tbody tr th {\n",
              "        vertical-align: top;\n",
              "    }\n",
              "\n",
              "    .dataframe thead th {\n",
              "        text-align: right;\n",
              "    }\n",
              "</style>\n",
              "<table border=\"1\" class=\"dataframe\">\n",
              "  <thead>\n",
              "    <tr style=\"text-align: right;\">\n",
              "      <th></th>\n",
              "      <th>rank_test_score</th>\n",
              "      <th>param_hidden_layer_sizes</th>\n",
              "      <th>mean_fit_time</th>\n",
              "      <th>mean_score_time</th>\n",
              "      <th>mean_test_score</th>\n",
              "      <th>std_test_score</th>\n",
              "      <th>std_score_time</th>\n",
              "      <th>params</th>\n",
              "    </tr>\n",
              "  </thead>\n",
              "  <tbody>\n",
              "    <tr>\n",
              "      <th>0</th>\n",
              "      <td>13</td>\n",
              "      <td>(20, 20)</td>\n",
              "      <td>0.905342</td>\n",
              "      <td>0.002072</td>\n",
              "      <td>0.928428</td>\n",
              "      <td>0.021185</td>\n",
              "      <td>0.000035</td>\n",
              "      <td>{'alpha': 1e-05, 'hidden_layer_sizes': (20, 20)}</td>\n",
              "    </tr>\n",
              "    <tr>\n",
              "      <th>1</th>\n",
              "      <td>2</td>\n",
              "      <td>(5, 5, 5)</td>\n",
              "      <td>0.868753</td>\n",
              "      <td>0.002127</td>\n",
              "      <td>0.930480</td>\n",
              "      <td>0.018468</td>\n",
              "      <td>0.000158</td>\n",
              "      <td>{'alpha': 1e-05, 'hidden_layer_sizes': (5, 5, 5)}</td>\n",
              "    </tr>\n",
              "    <tr>\n",
              "      <th>2</th>\n",
              "      <td>10</td>\n",
              "      <td>(20, 20, 20)</td>\n",
              "      <td>1.011473</td>\n",
              "      <td>0.002300</td>\n",
              "      <td>0.929236</td>\n",
              "      <td>0.021661</td>\n",
              "      <td>0.000405</td>\n",
              "      <td>{'alpha': 1e-05, 'hidden_layer_sizes': (20, 20...</td>\n",
              "    </tr>\n",
              "    <tr>\n",
              "      <th>3</th>\n",
              "      <td>1</td>\n",
              "      <td>(30, 30, 30)</td>\n",
              "      <td>3.119658</td>\n",
              "      <td>0.002889</td>\n",
              "      <td>0.930628</td>\n",
              "      <td>0.018906</td>\n",
              "      <td>0.000134</td>\n",
              "      <td>{'alpha': 1e-05, 'hidden_layer_sizes': (30, 30...</td>\n",
              "    </tr>\n",
              "    <tr>\n",
              "      <th>4</th>\n",
              "      <td>12</td>\n",
              "      <td>(20, 20, 20, 20)</td>\n",
              "      <td>1.822055</td>\n",
              "      <td>0.002217</td>\n",
              "      <td>0.928492</td>\n",
              "      <td>0.019413</td>\n",
              "      <td>0.000064</td>\n",
              "      <td>{'alpha': 1e-05, 'hidden_layer_sizes': (20, 20...</td>\n",
              "    </tr>\n",
              "    <tr>\n",
              "      <th>5</th>\n",
              "      <td>4</td>\n",
              "      <td>(30, 30, 30, 30)</td>\n",
              "      <td>4.259677</td>\n",
              "      <td>0.002870</td>\n",
              "      <td>0.930188</td>\n",
              "      <td>0.019532</td>\n",
              "      <td>0.000050</td>\n",
              "      <td>{'alpha': 1e-05, 'hidden_layer_sizes': (30, 30...</td>\n",
              "    </tr>\n",
              "    <tr>\n",
              "      <th>6</th>\n",
              "      <td>5</td>\n",
              "      <td>(50, 50, 50, 50)</td>\n",
              "      <td>4.458385</td>\n",
              "      <td>0.003029</td>\n",
              "      <td>0.930078</td>\n",
              "      <td>0.020148</td>\n",
              "      <td>0.000044</td>\n",
              "      <td>{'alpha': 1e-05, 'hidden_layer_sizes': (50, 50...</td>\n",
              "    </tr>\n",
              "    <tr>\n",
              "      <th>7</th>\n",
              "      <td>7</td>\n",
              "      <td>(20, 20)</td>\n",
              "      <td>0.939086</td>\n",
              "      <td>0.002247</td>\n",
              "      <td>0.929857</td>\n",
              "      <td>0.018977</td>\n",
              "      <td>0.000378</td>\n",
              "      <td>{'alpha': 0.0001, 'hidden_layer_sizes': (20, 20)}</td>\n",
              "    </tr>\n",
              "    <tr>\n",
              "      <th>8</th>\n",
              "      <td>9</td>\n",
              "      <td>(5, 5, 5)</td>\n",
              "      <td>0.837276</td>\n",
              "      <td>0.002150</td>\n",
              "      <td>0.929823</td>\n",
              "      <td>0.017940</td>\n",
              "      <td>0.000063</td>\n",
              "      <td>{'alpha': 0.0001, 'hidden_layer_sizes': (5, 5,...</td>\n",
              "    </tr>\n",
              "    <tr>\n",
              "      <th>9</th>\n",
              "      <td>3</td>\n",
              "      <td>(20, 20, 20)</td>\n",
              "      <td>1.126501</td>\n",
              "      <td>0.002138</td>\n",
              "      <td>0.930206</td>\n",
              "      <td>0.019118</td>\n",
              "      <td>0.000068</td>\n",
              "      <td>{'alpha': 0.0001, 'hidden_layer_sizes': (20, 2...</td>\n",
              "    </tr>\n",
              "    <tr>\n",
              "      <th>10</th>\n",
              "      <td>11</td>\n",
              "      <td>(30, 30, 30)</td>\n",
              "      <td>2.907202</td>\n",
              "      <td>0.002887</td>\n",
              "      <td>0.929176</td>\n",
              "      <td>0.021388</td>\n",
              "      <td>0.000157</td>\n",
              "      <td>{'alpha': 0.0001, 'hidden_layer_sizes': (30, 3...</td>\n",
              "    </tr>\n",
              "    <tr>\n",
              "      <th>11</th>\n",
              "      <td>6</td>\n",
              "      <td>(20, 20, 20, 20)</td>\n",
              "      <td>1.580557</td>\n",
              "      <td>0.002136</td>\n",
              "      <td>0.929921</td>\n",
              "      <td>0.019633</td>\n",
              "      <td>0.000040</td>\n",
              "      <td>{'alpha': 0.0001, 'hidden_layer_sizes': (20, 2...</td>\n",
              "    </tr>\n",
              "    <tr>\n",
              "      <th>12</th>\n",
              "      <td>14</td>\n",
              "      <td>(30, 30, 30, 30)</td>\n",
              "      <td>3.726409</td>\n",
              "      <td>0.002940</td>\n",
              "      <td>0.928221</td>\n",
              "      <td>0.020534</td>\n",
              "      <td>0.000121</td>\n",
              "      <td>{'alpha': 0.0001, 'hidden_layer_sizes': (30, 3...</td>\n",
              "    </tr>\n",
              "    <tr>\n",
              "      <th>13</th>\n",
              "      <td>8</td>\n",
              "      <td>(50, 50, 50, 50)</td>\n",
              "      <td>4.853896</td>\n",
              "      <td>0.003620</td>\n",
              "      <td>0.929847</td>\n",
              "      <td>0.020661</td>\n",
              "      <td>0.001020</td>\n",
              "      <td>{'alpha': 0.0001, 'hidden_layer_sizes': (50, 5...</td>\n",
              "    </tr>\n",
              "  </tbody>\n",
              "</table>\n",
              "</div>\n",
              "      <button class=\"colab-df-convert\" onclick=\"convertToInteractive('df-3ea25515-9acc-475d-88c3-e8d87d40d559')\"\n",
              "              title=\"Convert this dataframe to an interactive table.\"\n",
              "              style=\"display:none;\">\n",
              "        \n",
              "  <svg xmlns=\"http://www.w3.org/2000/svg\" height=\"24px\"viewBox=\"0 0 24 24\"\n",
              "       width=\"24px\">\n",
              "    <path d=\"M0 0h24v24H0V0z\" fill=\"none\"/>\n",
              "    <path d=\"M18.56 5.44l.94 2.06.94-2.06 2.06-.94-2.06-.94-.94-2.06-.94 2.06-2.06.94zm-11 1L8.5 8.5l.94-2.06 2.06-.94-2.06-.94L8.5 2.5l-.94 2.06-2.06.94zm10 10l.94 2.06.94-2.06 2.06-.94-2.06-.94-.94-2.06-.94 2.06-2.06.94z\"/><path d=\"M17.41 7.96l-1.37-1.37c-.4-.4-.92-.59-1.43-.59-.52 0-1.04.2-1.43.59L10.3 9.45l-7.72 7.72c-.78.78-.78 2.05 0 2.83L4 21.41c.39.39.9.59 1.41.59.51 0 1.02-.2 1.41-.59l7.78-7.78 2.81-2.81c.8-.78.8-2.07 0-2.86zM5.41 20L4 18.59l7.72-7.72 1.47 1.35L5.41 20z\"/>\n",
              "  </svg>\n",
              "      </button>\n",
              "      \n",
              "  <style>\n",
              "    .colab-df-container {\n",
              "      display:flex;\n",
              "      flex-wrap:wrap;\n",
              "      gap: 12px;\n",
              "    }\n",
              "\n",
              "    .colab-df-convert {\n",
              "      background-color: #E8F0FE;\n",
              "      border: none;\n",
              "      border-radius: 50%;\n",
              "      cursor: pointer;\n",
              "      display: none;\n",
              "      fill: #1967D2;\n",
              "      height: 32px;\n",
              "      padding: 0 0 0 0;\n",
              "      width: 32px;\n",
              "    }\n",
              "\n",
              "    .colab-df-convert:hover {\n",
              "      background-color: #E2EBFA;\n",
              "      box-shadow: 0px 1px 2px rgba(60, 64, 67, 0.3), 0px 1px 3px 1px rgba(60, 64, 67, 0.15);\n",
              "      fill: #174EA6;\n",
              "    }\n",
              "\n",
              "    [theme=dark] .colab-df-convert {\n",
              "      background-color: #3B4455;\n",
              "      fill: #D2E3FC;\n",
              "    }\n",
              "\n",
              "    [theme=dark] .colab-df-convert:hover {\n",
              "      background-color: #434B5C;\n",
              "      box-shadow: 0px 1px 3px 1px rgba(0, 0, 0, 0.15);\n",
              "      filter: drop-shadow(0px 1px 2px rgba(0, 0, 0, 0.3));\n",
              "      fill: #FFFFFF;\n",
              "    }\n",
              "  </style>\n",
              "\n",
              "      <script>\n",
              "        const buttonEl =\n",
              "          document.querySelector('#df-3ea25515-9acc-475d-88c3-e8d87d40d559 button.colab-df-convert');\n",
              "        buttonEl.style.display =\n",
              "          google.colab.kernel.accessAllowed ? 'block' : 'none';\n",
              "\n",
              "        async function convertToInteractive(key) {\n",
              "          const element = document.querySelector('#df-3ea25515-9acc-475d-88c3-e8d87d40d559');\n",
              "          const dataTable =\n",
              "            await google.colab.kernel.invokeFunction('convertToInteractive',\n",
              "                                                     [key], {});\n",
              "          if (!dataTable) return;\n",
              "\n",
              "          const docLinkHtml = 'Like what you see? Visit the ' +\n",
              "            '<a target=\"_blank\" href=https://colab.research.google.com/notebooks/data_table.ipynb>data table notebook</a>'\n",
              "            + ' to learn more about interactive tables.';\n",
              "          element.innerHTML = '';\n",
              "          dataTable['output_type'] = 'display_data';\n",
              "          await google.colab.output.renderOutput(dataTable, element);\n",
              "          const docLink = document.createElement('div');\n",
              "          docLink.innerHTML = docLinkHtml;\n",
              "          element.appendChild(docLink);\n",
              "        }\n",
              "      </script>\n",
              "    </div>\n",
              "  </div>\n",
              "  "
            ]
          },
          "metadata": {},
          "execution_count": 84
        }
      ]
    },
    {
      "cell_type": "markdown",
      "source": [
        "Se escoje una"
      ],
      "metadata": {
        "id": "ZkroZTmwSZTS"
      }
    },
    {
      "cell_type": "code",
      "source": [
        "print(rank.loc[ 0,'params'])"
      ],
      "metadata": {
        "colab": {
          "base_uri": "https://localhost:8080/"
        },
        "id": "DClG_BBVoGL3",
        "outputId": "cf4e7d11-bbf6-4436-b7da-ed58e8a640e5"
      },
      "execution_count": null,
      "outputs": [
        {
          "output_type": "stream",
          "name": "stdout",
          "text": [
            "{'alpha': 1e-05, 'hidden_layer_sizes': (20, 20)}\n"
          ]
        }
      ]
    },
    {
      "cell_type": "markdown",
      "source": [
        "re entrenamiento"
      ],
      "metadata": {
        "id": "meOR86T4oGpb"
      }
    },
    {
      "cell_type": "code",
      "source": [
        "Parametros=rank.loc[ 1,'params']\n",
        "print(Parametros)\n",
        "clf = MLPRegressor(**Parametros,random_state=1 ,verbose=verbose,solver='lbfgs',activation='identity',max_iter=10000)\n",
        "clf.fit(dfXTrainNorm6Dim, dfYTrain)\n",
        "clf.score(dfXTrainNorm6Dim, dfYTrain)"
      ],
      "metadata": {
        "colab": {
          "base_uri": "https://localhost:8080/"
        },
        "id": "QdNVNV4yoG4r",
        "outputId": "70d7342b-9bae-414a-8576-95afb295fb05"
      },
      "execution_count": null,
      "outputs": [
        {
          "output_type": "stream",
          "name": "stdout",
          "text": [
            "{'alpha': 1e-05, 'hidden_layer_sizes': (5, 5, 5)}\n"
          ]
        },
        {
          "output_type": "execute_result",
          "data": {
            "text/plain": [
              "0.9354028257239926"
            ]
          },
          "metadata": {},
          "execution_count": 86
        }
      ]
    },
    {
      "cell_type": "markdown",
      "source": [
        "## Evaluacion"
      ],
      "metadata": {
        "id": "bw6Hyqocpa-c"
      }
    },
    {
      "cell_type": "markdown",
      "source": [
        "Se calcula el R2 y se grafica el conjunto de validacion en grafica de linea"
      ],
      "metadata": {
        "id": "4cWiiJadTP7Z"
      }
    },
    {
      "cell_type": "code",
      "source": [
        "\n",
        "sb.set_theme(color_codes=True)\n",
        "#https://seaborn.pydata.org/generated/seaborn.regplot.html\n",
        "\n",
        "\n",
        "Data2=np.array(dfX_Evaluation.values)\n",
        "\n",
        "\n",
        "dfX_Evaluation_Norm=scaler.transform(Data2)\n",
        "DfX_Evaluation_Norm2Dim = pca.transform(dfX_Evaluation_Norm)\n",
        "\n",
        "\n",
        "y_pred_test_nn =clf.predict(DfX_Evaluation_Norm2Dim)\n",
        "R2=clf.score(DfX_Evaluation_Norm2Dim, dfY_Evaluation)\n",
        "\n",
        "print(\"R2=\",R2)\n",
        "\n",
        "print(y_pred_test_nn[:,0].shape)\n",
        "print(dfY_Evaluation.iloc[:,1].shape)\n",
        "\n",
        "ax = regplot(x=dfY_Evaluation.iloc[:,1] ,y=y_pred_test_nn[:,1], color=\"b\")"
      ],
      "metadata": {
        "colab": {
          "base_uri": "https://localhost:8080/",
          "height": 337
        },
        "id": "Pjp4Fg0qpcye",
        "outputId": "7734a310-45c2-48bc-fa4c-e6ef2ac870bd"
      },
      "execution_count": null,
      "outputs": [
        {
          "output_type": "stream",
          "name": "stdout",
          "text": [
            "R2= 0.9426555290445702\n",
            "(130,)\n",
            "(130,)\n"
          ]
        },
        {
          "output_type": "display_data",
          "data": {
            "text/plain": [
              "<Figure size 432x288 with 1 Axes>"
            ],
            "image/png": "[encoded data removed]"
          },
          "metadata": {}
        }
      ]
    },
    {
      "cell_type": "code",
      "source": [
        "ax = regplot(x=dfY_Evaluation.iloc[:,0] ,y=y_pred_test_nn[:,0], color=\"b\")"
      ],
      "metadata": {
        "colab": {
          "base_uri": "https://localhost:8080/",
          "height": 285
        },
        "id": "p8LVqwCZfHlu",
        "outputId": "77415eec-9429-430c-c1d7-40738c662e5c"
      },
      "execution_count": null,
      "outputs": [
        {
          "output_type": "display_data",
          "data": {
            "text/plain": [
              "<Figure size 432x288 with 1 Axes>"
            ],
            "image/png": "[encoded data removed]"
          },
          "metadata": {}
        }
      ]
    },
    {
      "cell_type": "code",
      "source": [
        "print(r2_score(dfY_Evaluation.iloc[:,0], y_pred_test_nn[:,0]))\n",
        "print(r2_score(dfY_Evaluation.iloc[:,1], y_pred_test_nn[:,1]))"
      ],
      "metadata": {
        "colab": {
          "base_uri": "https://localhost:8080/"
        },
        "id": "7ntDLA0_mgiu",
        "outputId": "4c506a89-4a50-4a01-d14d-eac5f8ffd59e"
      },
      "execution_count": null,
      "outputs": [
        {
          "output_type": "stream",
          "name": "stdout",
          "text": [
            "0.985966133901768\n",
            "0.8993449241873724\n"
          ]
        }
      ]
    },
    {
      "cell_type": "markdown",
      "source": [
        "Resumen:\n",
        "\n",
        "R2 de TDS=0.985966133901768\n",
        "\n",
        "R2 de TDS=0.8993449241873724"
      ],
      "metadata": {
        "id": "tNU-7cnbTWYR"
      }
    },
    {
      "cell_type": "markdown",
      "source": [
        "# Download models and use"
      ],
      "metadata": {
        "id": "aR8_TcY8ta1U"
      }
    },
    {
      "cell_type": "code",
      "source": [
        "from joblib import dump, load\n",
        "import pickle\n",
        "dump(pca, 'dim_sacaler_17to10.bin', compress=True)\n",
        "dump(scaler, 'std_scaler.bin', compress=True)\n",
        "filename = 'RNmodel.sav'\n",
        "pickle.dump(clf, open(filename, 'wb'))\n"
      ],
      "metadata": {
        "id": "-2Ca2Ky_Mu9s"
      },
      "execution_count": null,
      "outputs": []
    }
  ]
}