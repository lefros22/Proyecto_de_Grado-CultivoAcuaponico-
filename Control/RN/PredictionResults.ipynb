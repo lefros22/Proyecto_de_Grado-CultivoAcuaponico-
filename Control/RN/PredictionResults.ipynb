{
  "nbformat": 4,
  "nbformat_minor": 0,
  "metadata": {
    "colab": {
      "provenance": []
    },
    "kernelspec": {
      "name": "python3",
      "display_name": "Python 3"
    },
    "language_info": {
      "name": "python"
    }
  },
  "cells": [
    {
      "cell_type": "markdown",
      "source": [
        "# Validacion prediccion control"
      ],
      "metadata": {
        "id": "Zbgbye_dK99W"
      }
    },
    {
      "cell_type": "markdown",
      "source": [
        "## Carga de modelos"
      ],
      "metadata": {
        "id": "RHaGyqIWa4wQ"
      }
    },
    {
      "cell_type": "code",
      "execution_count": 2,
      "metadata": {
        "id": "tEwZPr9YK5QJ",
        "colab": {
          "base_uri": "https://localhost:8080/"
        },
        "outputId": "959cd818-7142-430e-a586-08856f11f413"
      },
      "outputs": [
        {
          "output_type": "stream",
          "name": "stderr",
          "text": [
            "/usr/local/lib/python3.9/dist-packages/sklearn/base.py:299: UserWarning: Trying to unpickle estimator MLPRegressor from version 1.0.2 when using version 1.2.1. This might lead to breaking code or invalid results. Use at your own risk. For more info please refer to:\n",
            "https://scikit-learn.org/stable/model_persistence.html#security-maintainability-limitations\n",
            "  warnings.warn(\n",
            "/usr/local/lib/python3.9/dist-packages/sklearn/base.py:299: UserWarning: Trying to unpickle estimator StandardScaler from version 1.0.2 when using version 1.2.1. This might lead to breaking code or invalid results. Use at your own risk. For more info please refer to:\n",
            "https://scikit-learn.org/stable/model_persistence.html#security-maintainability-limitations\n",
            "  warnings.warn(\n",
            "/usr/local/lib/python3.9/dist-packages/sklearn/base.py:299: UserWarning: Trying to unpickle estimator PCA from version 1.0.2 when using version 1.2.1. This might lead to breaking code or invalid results. Use at your own risk. For more info please refer to:\n",
            "https://scikit-learn.org/stable/model_persistence.html#security-maintainability-limitations\n",
            "  warnings.warn(\n"
          ]
        }
      ],
      "source": [
        "from joblib import dump, load\n",
        "import pickle\n",
        "import pandas as pd\n",
        "\n",
        "loaded_model = pickle.load(open('RNmodel.sav', 'rb'))\n",
        "\n",
        "sc=load('std_scaler.bin')\n",
        "\n",
        "dim=load('dim_sacaler_17to10.bin')"
      ]
    },
    {
      "cell_type": "markdown",
      "source": [
        "## Carga de dataset a evaluar"
      ],
      "metadata": {
        "id": "TIyIev8Za88g"
      }
    },
    {
      "cell_type": "code",
      "source": [
        "datos=pd.read_excel(\"/content/drive/MyDrive/Proyecto grado Privado Luis/data_set_moderno_final.xlsx\") \n",
        "\n",
        "\n",
        "dfX=datos[['TDS_n1','TDS_n2','TDS_n3','TDS_n4','TDS_n5','TDS_n6',\n",
        "                 'Temp_n1','Temp_n2','Temp_n3','Temp_n4','Temp_n5','Temp_n6',\n",
        "                 'Hora','CL','CC','CO','CA']]\n",
        "dfY=datos[['TDS','Temp']]\n",
        "\n",
        "dfX.head(5)"
      ],
      "metadata": {
        "id": "nZ1D_E2ZK9Z-",
        "colab": {
          "base_uri": "https://localhost:8080/",
          "height": 206
        },
        "outputId": "dcdceae3-14cc-44f7-fdf2-ee5ea9bd0d7c"
      },
      "execution_count": 9,
      "outputs": [
        {
          "output_type": "execute_result",
          "data": {
            "text/plain": [
              "       TDS_n1      TDS_n2      TDS_n3      TDS_n4      TDS_n5      TDS_n6  \\\n",
              "0  308.159210  307.110962  303.065948  304.572388  299.702545  299.434235   \n",
              "1  315.479401  308.159210  307.110962  303.065948  304.572388  299.702545   \n",
              "2  317.075775  315.479401  308.159210  307.110962  303.065948  304.572388   \n",
              "3  314.531128  317.075775  315.479401  308.159210  307.110962  303.065948   \n",
              "4  310.909424  314.531128  317.075775  315.479401  308.159210  307.110962   \n",
              "\n",
              "   Temp_n1  Temp_n2  Temp_n3  Temp_n4  Temp_n5  Temp_n6  Hora        CL    CC  \\\n",
              "0  23.4375  24.0000  23.7500  23.9375  23.8750  23.3750    20  0.003333  0.21   \n",
              "1  23.2500  23.4375  24.0000  23.7500  23.9375  23.8750    22  0.003333  0.20   \n",
              "2  22.7500  23.2500  23.4375  24.0000  23.7500  23.9375     0  0.003333  0.74   \n",
              "3  22.4375  22.7500  23.2500  23.4375  24.0000  23.7500     2  0.003333  0.93   \n",
              "4  22.1875  22.4375  22.7500  23.2500  23.4375  24.0000     4  0.003333  0.90   \n",
              "\n",
              "     CO    CA  \n",
              "0  0.93  0.03  \n",
              "1  0.97  0.19  \n",
              "2  0.40  0.48  \n",
              "3  0.35  0.87  \n",
              "4  0.30  0.95  "
            ],
            "text/html": [
              "\n",
              "  <div id=\"df-78a5eb7f-7c96-4866-83e7-0b2e1eb5e761\">\n",
              "    <div class=\"colab-df-container\">\n",
              "      <div>\n",
              "<style scoped>\n",
              "    .dataframe tbody tr th:only-of-type {\n",
              "        vertical-align: middle;\n",
              "    }\n",
              "\n",
              "    .dataframe tbody tr th {\n",
              "        vertical-align: top;\n",
              "    }\n",
              "\n",
              "    .dataframe thead th {\n",
              "        text-align: right;\n",
              "    }\n",
              "</style>\n",
              "<table border=\"1\" class=\"dataframe\">\n",
              "  <thead>\n",
              "    <tr style=\"text-align: right;\">\n",
              "      <th></th>\n",
              "      <th>TDS_n1</th>\n",
              "      <th>TDS_n2</th>\n",
              "      <th>TDS_n3</th>\n",
              "      <th>TDS_n4</th>\n",
              "      <th>TDS_n5</th>\n",
              "      <th>TDS_n6</th>\n",
              "      <th>Temp_n1</th>\n",
              "      <th>Temp_n2</th>\n",
              "      <th>Temp_n3</th>\n",
              "      <th>Temp_n4</th>\n",
              "      <th>Temp_n5</th>\n",
              "      <th>Temp_n6</th>\n",
              "      <th>Hora</th>\n",
              "      <th>CL</th>\n",
              "      <th>CC</th>\n",
              "      <th>CO</th>\n",
              "      <th>CA</th>\n",
              "    </tr>\n",
              "  </thead>\n",
              "  <tbody>\n",
              "    <tr>\n",
              "      <th>0</th>\n",
              "      <td>308.159210</td>\n",
              "      <td>307.110962</td>\n",
              "      <td>303.065948</td>\n",
              "      <td>304.572388</td>\n",
              "      <td>299.702545</td>\n",
              "      <td>299.434235</td>\n",
              "      <td>23.4375</td>\n",
              "      <td>24.0000</td>\n",
              "      <td>23.7500</td>\n",
              "      <td>23.9375</td>\n",
              "      <td>23.8750</td>\n",
              "      <td>23.3750</td>\n",
              "      <td>20</td>\n",
              "      <td>0.003333</td>\n",
              "      <td>0.21</td>\n",
              "      <td>0.93</td>\n",
              "      <td>0.03</td>\n",
              "    </tr>\n",
              "    <tr>\n",
              "      <th>1</th>\n",
              "      <td>315.479401</td>\n",
              "      <td>308.159210</td>\n",
              "      <td>307.110962</td>\n",
              "      <td>303.065948</td>\n",
              "      <td>304.572388</td>\n",
              "      <td>299.702545</td>\n",
              "      <td>23.2500</td>\n",
              "      <td>23.4375</td>\n",
              "      <td>24.0000</td>\n",
              "      <td>23.7500</td>\n",
              "      <td>23.9375</td>\n",
              "      <td>23.8750</td>\n",
              "      <td>22</td>\n",
              "      <td>0.003333</td>\n",
              "      <td>0.20</td>\n",
              "      <td>0.97</td>\n",
              "      <td>0.19</td>\n",
              "    </tr>\n",
              "    <tr>\n",
              "      <th>2</th>\n",
              "      <td>317.075775</td>\n",
              "      <td>315.479401</td>\n",
              "      <td>308.159210</td>\n",
              "      <td>307.110962</td>\n",
              "      <td>303.065948</td>\n",
              "      <td>304.572388</td>\n",
              "      <td>22.7500</td>\n",
              "      <td>23.2500</td>\n",
              "      <td>23.4375</td>\n",
              "      <td>24.0000</td>\n",
              "      <td>23.7500</td>\n",
              "      <td>23.9375</td>\n",
              "      <td>0</td>\n",
              "      <td>0.003333</td>\n",
              "      <td>0.74</td>\n",
              "      <td>0.40</td>\n",
              "      <td>0.48</td>\n",
              "    </tr>\n",
              "    <tr>\n",
              "      <th>3</th>\n",
              "      <td>314.531128</td>\n",
              "      <td>317.075775</td>\n",
              "      <td>315.479401</td>\n",
              "      <td>308.159210</td>\n",
              "      <td>307.110962</td>\n",
              "      <td>303.065948</td>\n",
              "      <td>22.4375</td>\n",
              "      <td>22.7500</td>\n",
              "      <td>23.2500</td>\n",
              "      <td>23.4375</td>\n",
              "      <td>24.0000</td>\n",
              "      <td>23.7500</td>\n",
              "      <td>2</td>\n",
              "      <td>0.003333</td>\n",
              "      <td>0.93</td>\n",
              "      <td>0.35</td>\n",
              "      <td>0.87</td>\n",
              "    </tr>\n",
              "    <tr>\n",
              "      <th>4</th>\n",
              "      <td>310.909424</td>\n",
              "      <td>314.531128</td>\n",
              "      <td>317.075775</td>\n",
              "      <td>315.479401</td>\n",
              "      <td>308.159210</td>\n",
              "      <td>307.110962</td>\n",
              "      <td>22.1875</td>\n",
              "      <td>22.4375</td>\n",
              "      <td>22.7500</td>\n",
              "      <td>23.2500</td>\n",
              "      <td>23.4375</td>\n",
              "      <td>24.0000</td>\n",
              "      <td>4</td>\n",
              "      <td>0.003333</td>\n",
              "      <td>0.90</td>\n",
              "      <td>0.30</td>\n",
              "      <td>0.95</td>\n",
              "    </tr>\n",
              "  </tbody>\n",
              "</table>\n",
              "</div>\n",
              "      <button class=\"colab-df-convert\" onclick=\"convertToInteractive('df-78a5eb7f-7c96-4866-83e7-0b2e1eb5e761')\"\n",
              "              title=\"Convert this dataframe to an interactive table.\"\n",
              "              style=\"display:none;\">\n",
              "        \n",
              "  <svg xmlns=\"http://www.w3.org/2000/svg\" height=\"24px\"viewBox=\"0 0 24 24\"\n",
              "       width=\"24px\">\n",
              "    <path d=\"M0 0h24v24H0V0z\" fill=\"none\"/>\n",
              "    <path d=\"M18.56 5.44l.94 2.06.94-2.06 2.06-.94-2.06-.94-.94-2.06-.94 2.06-2.06.94zm-11 1L8.5 8.5l.94-2.06 2.06-.94-2.06-.94L8.5 2.5l-.94 2.06-2.06.94zm10 10l.94 2.06.94-2.06 2.06-.94-2.06-.94-.94-2.06-.94 2.06-2.06.94z\"/><path d=\"M17.41 7.96l-1.37-1.37c-.4-.4-.92-.59-1.43-.59-.52 0-1.04.2-1.43.59L10.3 9.45l-7.72 7.72c-.78.78-.78 2.05 0 2.83L4 21.41c.39.39.9.59 1.41.59.51 0 1.02-.2 1.41-.59l7.78-7.78 2.81-2.81c.8-.78.8-2.07 0-2.86zM5.41 20L4 18.59l7.72-7.72 1.47 1.35L5.41 20z\"/>\n",
              "  </svg>\n",
              "      </button>\n",
              "      \n",
              "  <style>\n",
              "    .colab-df-container {\n",
              "      display:flex;\n",
              "      flex-wrap:wrap;\n",
              "      gap: 12px;\n",
              "    }\n",
              "\n",
              "    .colab-df-convert {\n",
              "      background-color: #E8F0FE;\n",
              "      border: none;\n",
              "      border-radius: 50%;\n",
              "      cursor: pointer;\n",
              "      display: none;\n",
              "      fill: #1967D2;\n",
              "      height: 32px;\n",
              "      padding: 0 0 0 0;\n",
              "      width: 32px;\n",
              "    }\n",
              "\n",
              "    .colab-df-convert:hover {\n",
              "      background-color: #E2EBFA;\n",
              "      box-shadow: 0px 1px 2px rgba(60, 64, 67, 0.3), 0px 1px 3px 1px rgba(60, 64, 67, 0.15);\n",
              "      fill: #174EA6;\n",
              "    }\n",
              "\n",
              "    [theme=dark] .colab-df-convert {\n",
              "      background-color: #3B4455;\n",
              "      fill: #D2E3FC;\n",
              "    }\n",
              "\n",
              "    [theme=dark] .colab-df-convert:hover {\n",
              "      background-color: #434B5C;\n",
              "      box-shadow: 0px 1px 3px 1px rgba(0, 0, 0, 0.15);\n",
              "      filter: drop-shadow(0px 1px 2px rgba(0, 0, 0, 0.3));\n",
              "      fill: #FFFFFF;\n",
              "    }\n",
              "  </style>\n",
              "\n",
              "      <script>\n",
              "        const buttonEl =\n",
              "          document.querySelector('#df-78a5eb7f-7c96-4866-83e7-0b2e1eb5e761 button.colab-df-convert');\n",
              "        buttonEl.style.display =\n",
              "          google.colab.kernel.accessAllowed ? 'block' : 'none';\n",
              "\n",
              "        async function convertToInteractive(key) {\n",
              "          const element = document.querySelector('#df-78a5eb7f-7c96-4866-83e7-0b2e1eb5e761');\n",
              "          const dataTable =\n",
              "            await google.colab.kernel.invokeFunction('convertToInteractive',\n",
              "                                                     [key], {});\n",
              "          if (!dataTable) return;\n",
              "\n",
              "          const docLinkHtml = 'Like what you see? Visit the ' +\n",
              "            '<a target=\"_blank\" href=https://colab.research.google.com/notebooks/data_table.ipynb>data table notebook</a>'\n",
              "            + ' to learn more about interactive tables.';\n",
              "          element.innerHTML = '';\n",
              "          dataTable['output_type'] = 'display_data';\n",
              "          await google.colab.output.renderOutput(dataTable, element);\n",
              "          const docLink = document.createElement('div');\n",
              "          docLink.innerHTML = docLinkHtml;\n",
              "          element.appendChild(docLink);\n",
              "        }\n",
              "      </script>\n",
              "    </div>\n",
              "  </div>\n",
              "  "
            ]
          },
          "metadata": {},
          "execution_count": 9
        }
      ]
    },
    {
      "cell_type": "code",
      "source": [
        "data_x=dfX.values\n",
        "data_y=dfY.values\n",
        "#print(data_y)"
      ],
      "metadata": {
        "id": "l_TJVJ9lJ_kx"
      },
      "execution_count": 10,
      "outputs": []
    },
    {
      "cell_type": "markdown",
      "source": [
        "## Prediccion con los modelos de control para validar"
      ],
      "metadata": {
        "id": "MUrGqSn5bBi9"
      }
    },
    {
      "cell_type": "code",
      "source": [
        "norm=sc.transform(data_x)"
      ],
      "metadata": {
        "id": "XkuDIWdVJ9r_"
      },
      "execution_count": 11,
      "outputs": []
    },
    {
      "cell_type": "code",
      "source": [
        "dimen=dim.transform(norm)"
      ],
      "metadata": {
        "id": "nSabbojNKHJJ"
      },
      "execution_count": 12,
      "outputs": []
    },
    {
      "cell_type": "code",
      "source": [
        "pred=loaded_model.predict(dimen)"
      ],
      "metadata": {
        "id": "Hi0z-F2IKIj2"
      },
      "execution_count": 13,
      "outputs": []
    },
    {
      "cell_type": "markdown",
      "source": [
        "## Calculo metricas"
      ],
      "metadata": {
        "id": "JXuuNspsbLW2"
      }
    },
    {
      "cell_type": "code",
      "source": [
        "import seaborn as sb\n",
        "sb.set_theme(color_codes=True)\n",
        "\n",
        "ax = sb.regplot(x=pred[:,0] ,y=data_y[:,0], color=\"b\")\n",
        "ax.set(xlabel =\"TDS\", ylabel = \"TDS\", title ='r2 TDS')\n"
      ],
      "metadata": {
        "colab": {
          "base_uri": "https://localhost:8080/",
          "height": 318
        },
        "id": "VH4K2hloqGYy",
        "outputId": "211dc56e-24f2-4de6-88b3-e65a410be3c2"
      },
      "execution_count": 20,
      "outputs": [
        {
          "output_type": "execute_result",
          "data": {
            "text/plain": [
              "[Text(0.5, 0, 'TDS'), Text(0, 0.5, 'TDS'), Text(0.5, 1.0, 'r2 TDS')]"
            ]
          },
          "metadata": {},
          "execution_count": 20
        },
        {
          "output_type": "display_data",
          "data": {
            "text/plain": [
              "<Figure size 432x288 with 1 Axes>"
            ],
            "image/png": "[encoded data removed]"
          },
          "metadata": {}
        }
      ]
    },
    {
      "cell_type": "code",
      "source": [
        "import seaborn as sb\n",
        "sb.set_theme(color_codes=True)\n",
        "ax = sb.regplot(x=pred[:,1] ,y=data_y[:,1], color=\"b\")\n",
        "ax.set(xlabel =\"Temp\", ylabel = \"Temp\", title ='r2 Temp')"
      ],
      "metadata": {
        "colab": {
          "base_uri": "https://localhost:8080/",
          "height": 318
        },
        "id": "lSBI8uzFqXkS",
        "outputId": "05ef94b2-ed0b-4b52-da4e-07c5079c6e4e"
      },
      "execution_count": 21,
      "outputs": [
        {
          "output_type": "execute_result",
          "data": {
            "text/plain": [
              "[Text(0.5, 0, 'Temp'), Text(0, 0.5, 'Temp'), Text(0.5, 1.0, 'r2 Temp')]"
            ]
          },
          "metadata": {},
          "execution_count": 21
        },
        {
          "output_type": "display_data",
          "data": {
            "text/plain": [
              "<Figure size 432x288 with 1 Axes>"
            ],
            "image/png": "[encoded data removed]"
          },
          "metadata": {}
        }
      ]
    },
    {
      "cell_type": "markdown",
      "source": [
        "Numeric Results of R2"
      ],
      "metadata": {
        "id": "weaGL63Jcr2H"
      }
    },
    {
      "cell_type": "code",
      "source": [
        "from sklearn.metrics import r2_score\n",
        "print(\"TDS r2:\",r2_score(pred[:,0], data_y[:,0]))\n",
        "print(\"TEMP r2:\",r2_score(pred[:,1], data_y[:,1]))"
      ],
      "metadata": {
        "colab": {
          "base_uri": "https://localhost:8080/"
        },
        "id": "lUVh9s-s_Zj_",
        "outputId": "99a0697d-0c5e-484b-a32e-169e1311b201"
      },
      "execution_count": 26,
      "outputs": [
        {
          "output_type": "stream",
          "name": "stdout",
          "text": [
            "TDS r2: 0.4467577382196657\n",
            "TEMP r2: 0.7894018742222686\n"
          ]
        }
      ]
    }
  ]
}